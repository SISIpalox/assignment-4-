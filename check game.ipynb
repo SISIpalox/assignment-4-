{
 "cells": [
  {
   "cell_type": "code",
   "execution_count": 7,
   "id": "6f4a98fd-e492-4eb2-ba0d-646c6c009e9e",
   "metadata": {
    "tags": []
   },
   "outputs": [
    {
     "data": {
      "text/plain": [
       "0.666973"
      ]
     },
     "execution_count": 7,
     "metadata": {},
     "output_type": "execute_result"
    }
   ],
   "source": [
    "import random\n",
    "\n",
    "def simulate_game(steps=25, trials=1000000):\n",
    "    \"\"\"\n",
    "    Simulate the coin flip game for a given number of trials.\n",
    "    Returns the probability of landing exactly on the specified step.\n",
    "    \"\"\"\n",
    "    land_on_step = 0  # Counter for how many times we land on the exact step\n",
    "\n",
    "    for _ in range(trials):\n",
    "        position = 0  # Start at the beginning of the path\n",
    "        while position < steps:  # Keep flipping until we reach or pass the step\n",
    "            flip = random.choice([1, 2])  # Simulate the coin flip\n",
    "            position += flip  # Take the steps based on the coin flip\n",
    "        if position == steps:\n",
    "            land_on_step += 1  # Increment if we land on the exact step\n",
    "\n",
    "    return land_on_step / trials  # Probability of landing on the exact step\n",
    "\n",
    "# Let's simulate the game with 100,000 trials to get a good estimate of the probability\n",
    "probability = simulate_game()\n",
    "probability\n"
   ]
  },
  {
   "cell_type": "code",
   "execution_count": null,
   "id": "91fac6a2-c32d-4901-a04d-46d76e95be1f",
   "metadata": {},
   "outputs": [],
   "source": []
  }
 ],
 "metadata": {
  "kernelspec": {
   "display_name": "Python 3 (ipykernel)",
   "language": "python",
   "name": "python3"
  },
  "language_info": {
   "codemirror_mode": {
    "name": "ipython",
    "version": 3
   },
   "file_extension": ".py",
   "mimetype": "text/x-python",
   "name": "python",
   "nbconvert_exporter": "python",
   "pygments_lexer": "ipython3",
   "version": "3.11.5"
  }
 },
 "nbformat": 4,
 "nbformat_minor": 5
}
