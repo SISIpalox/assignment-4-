{
 "cells": [
  {
   "cell_type": "code",
   "execution_count": 1,
   "id": "a238ac33-bcee-4bf5-981e-a33e67ea0fca",
   "metadata": {
    "tags": []
   },
   "outputs": [
    {
     "data": {
      "text/plain": [
       "{12: 0,\n",
       " 13: 2,\n",
       " 14: 4,\n",
       " 15: 6,\n",
       " 16: 8,\n",
       " 17: 10,\n",
       " 18: 12,\n",
       " 19: 14,\n",
       " 20: 16,\n",
       " 21: 18,\n",
       " 22: 20,\n",
       " 23: 22,\n",
       " 24: 24}"
      ]
     },
     "execution_count": 1,
     "metadata": {},
     "output_type": "execute_result"
    }
   ],
   "source": [
    "# Solve the equation for each m in the range 12 to 24\n",
    "\n",
    "# Define the range for m\n",
    "m_values = range(12, 25)  # 25 is exclusive, so it will go up to 24\n",
    "\n",
    "# Calculate x for each m\n",
    "solutions = {}\n",
    "for m in m_values:\n",
    "    x = 2 * m - 24\n",
    "    solutions[m] = x\n",
    "\n",
    "solutions\n"
   ]
  },
  {
   "cell_type": "code",
   "execution_count": null,
   "id": "95e78b6b-feaa-4b2b-8408-5c429e7b4fe2",
   "metadata": {},
   "outputs": [],
   "source": []
  }
 ],
 "metadata": {
  "kernelspec": {
   "display_name": "Python 3 (ipykernel)",
   "language": "python",
   "name": "python3"
  },
  "language_info": {
   "codemirror_mode": {
    "name": "ipython",
    "version": 3
   },
   "file_extension": ".py",
   "mimetype": "text/x-python",
   "name": "python",
   "nbconvert_exporter": "python",
   "pygments_lexer": "ipython3",
   "version": "3.11.5"
  }
 },
 "nbformat": 4,
 "nbformat_minor": 5
}
