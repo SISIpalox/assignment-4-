{
 "cells": [
  {
   "cell_type": "code",
   "execution_count": 1,
   "id": "2001f705-d4b2-485f-af00-8fc10905ffd3",
   "metadata": {
    "tags": []
   },
   "outputs": [
    {
     "data": {
      "text/plain": [
       "[1.0,\n",
       " 0.5,\n",
       " 0.75,\n",
       " 0.625,\n",
       " 0.6875,\n",
       " 0.65625,\n",
       " 0.671875,\n",
       " 0.6640625,\n",
       " 0.66796875,\n",
       " 0.666015625,\n",
       " 0.6669921875,\n",
       " 0.66650390625,\n",
       " 0.666748046875,\n",
       " 0.6666259765625,\n",
       " 0.66668701171875,\n",
       " 0.666656494140625,\n",
       " 0.6666717529296875,\n",
       " 0.6666641235351562,\n",
       " 0.6666679382324219,\n",
       " 0.6666660308837891,\n",
       " 0.6666669845581055,\n",
       " 0.6666665077209473,\n",
       " 0.6666667461395264,\n",
       " 0.6666666269302368]"
      ]
     },
     "execution_count": 1,
     "metadata": {},
     "output_type": "execute_result"
    }
   ],
   "source": [
    "from math import ceil\n",
    "from scipy.special import comb\n",
    "\n",
    "# Fix m to be 24\n",
    "m = 24\n",
    "\n",
    "# Create a list to hold the sum for each n from 1 to 24\n",
    "sums = []\n",
    "\n",
    "# Calculate the sum for each n\n",
    "for n in range(1, m+1):\n",
    "    # Calculate the lower and upper bounds of the sum\n",
    "    lower_bound = ceil((n-1)/2)\n",
    "    upper_bound = min(m, n-1)\n",
    "\n",
    "    # Calculate the sum for the current n\n",
    "    current_sum = sum(comb(i, n-1-i) / (2**i) for i in range(lower_bound, upper_bound + 1))\n",
    "    sums.append(current_sum)\n",
    "\n",
    "# Display the sums for each n\n",
    "sums\n"
   ]
  },
  {
   "cell_type": "code",
   "execution_count": null,
   "id": "8b290d51-200b-4709-b3d3-6df2d795223e",
   "metadata": {},
   "outputs": [],
   "source": []
  }
 ],
 "metadata": {
  "kernelspec": {
   "display_name": "Python 3 (ipykernel)",
   "language": "python",
   "name": "python3"
  },
  "language_info": {
   "codemirror_mode": {
    "name": "ipython",
    "version": 3
   },
   "file_extension": ".py",
   "mimetype": "text/x-python",
   "name": "python",
   "nbconvert_exporter": "python",
   "pygments_lexer": "ipython3",
   "version": "3.11.5"
  }
 },
 "nbformat": 4,
 "nbformat_minor": 5
}
