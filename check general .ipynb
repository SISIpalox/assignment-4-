{
 "cells": [
  {
   "cell_type": "code",
   "execution_count": 3,
   "id": "a053087e-10b9-4554-899f-d1a836b189d4",
   "metadata": {
    "tags": []
   },
   "outputs": [
    {
     "data": {
      "text/plain": [
       "0.6665"
      ]
     },
     "execution_count": 3,
     "metadata": {},
     "output_type": "execute_result"
    }
   ],
   "source": [
    "import random\n",
    "\n",
    "def simulate_tosses(tosses, target_step):\n",
    "    position = 0\n",
    "    for _ in range(tosses):\n",
    "        position += random.choice([1, 2])\n",
    "        if position == target_step:\n",
    "            return 1\n",
    "    return 0\n",
    "\n",
    "# Parameters\n",
    "tosses = 30\n",
    "target_step = 25\n",
    "simulations = 100000\n",
    "\n",
    "# Run the simulations\n",
    "landing_on_25 = sum(simulate_tosses(tosses, target_step) for _ in range(simulations))\n",
    "\n",
    "# Calculate the probability\n",
    "probability = landing_on_25 / simulations\n",
    "probability\n"
   ]
  },
  {
   "cell_type": "code",
   "execution_count": null,
   "id": "cc5bdac7-7da0-4641-9217-ae562ed8d2f2",
   "metadata": {},
   "outputs": [],
   "source": []
  }
 ],
 "metadata": {
  "kernelspec": {
   "display_name": "Python 3 (ipykernel)",
   "language": "python",
   "name": "python3"
  },
  "language_info": {
   "codemirror_mode": {
    "name": "ipython",
    "version": 3
   },
   "file_extension": ".py",
   "mimetype": "text/x-python",
   "name": "python",
   "nbconvert_exporter": "python",
   "pygments_lexer": "ipython3",
   "version": "3.11.5"
  }
 },
 "nbformat": 4,
 "nbformat_minor": 5
}
