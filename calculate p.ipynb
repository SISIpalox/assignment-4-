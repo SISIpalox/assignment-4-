{
 "cells": [
  {
   "cell_type": "code",
   "execution_count": 3,
   "id": "27ed7014-d180-4fe1-8a40-4f513392e9b7",
   "metadata": {
    "tags": []
   },
   "outputs": [
    {
     "data": {
      "text/plain": [
       "2729.666748046875"
      ]
     },
     "execution_count": 3,
     "metadata": {},
     "output_type": "execute_result"
    }
   ],
   "source": [
    "from math import factorial\n",
    "\n",
    "# Define the sum calculation with the given formula\n",
    "def calculate_sum():\n",
    "    total_sum = 0\n",
    "    for m in range(1, 13):\n",
    "        total_sum += factorial(m + 12) / (factorial(2 * m) * factorial(12 - m) * (2 ** m))\n",
    "    return total_sum\n",
    "\n",
    "# Calculate the sum\n",
    "sum_result = calculate_sum()\n",
    "sum_result\n",
    "\n"
   ]
  },
  {
   "cell_type": "code",
   "execution_count": 4,
   "id": "88163ef4-6c1f-4c09-a59f-a33d4b9faf2d",
   "metadata": {
    "tags": []
   },
   "outputs": [
    {
     "data": {
      "text/plain": [
       "0.66666748046875"
      ]
     },
     "execution_count": 4,
     "metadata": {},
     "output_type": "execute_result"
    }
   ],
   "source": [
    "# Calculate 2730.67 divided by 2^12\n",
    "result = 2730.67 / (2 ** 12)\n",
    "result\n"
   ]
  },
  {
   "cell_type": "code",
   "execution_count": null,
   "id": "39d669c3-8567-41d2-807f-04d6c8188021",
   "metadata": {},
   "outputs": [],
   "source": []
  }
 ],
 "metadata": {
  "kernelspec": {
   "display_name": "Python 3 (ipykernel)",
   "language": "python",
   "name": "python3"
  },
  "language_info": {
   "codemirror_mode": {
    "name": "ipython",
    "version": 3
   },
   "file_extension": ".py",
   "mimetype": "text/x-python",
   "name": "python",
   "nbconvert_exporter": "python",
   "pygments_lexer": "ipython3",
   "version": "3.11.5"
  }
 },
 "nbformat": 4,
 "nbformat_minor": 5
}
